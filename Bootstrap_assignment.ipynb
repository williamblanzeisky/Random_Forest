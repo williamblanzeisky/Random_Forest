{
 "cells": [
  {
   "cell_type": "markdown",
   "metadata": {
    "colab_type": "text",
    "id": "3sNKZq4XrXQh"
   },
   "source": [
    "# <font color='red'><b>Bootstrap assignment</b> </font>"
   ]
  },
  {
   "cell_type": "markdown",
   "metadata": {
    "colab_type": "text",
    "id": "RAHap1Z3FZC-"
   },
   "source": [
    "<b>There will be some functions that start with the word \"grader\" ex: grader_sampples(), grader_30().. etc, you should not change those function definition.\n",
    "\n",
    "Every Grader function has to return True.</b>"
   ]
  },
  {
   "cell_type": "markdown",
   "metadata": {
    "colab_type": "text",
    "id": "cuxBq_bvrwh2"
   },
   "source": [
    "<font color='blue'> <b>Importing packages</b> </font>"
   ]
  },
  {
   "cell_type": "code",
   "execution_count": 1,
   "metadata": {
    "colab": {},
    "colab_type": "code",
    "id": "m6ag91ijrQOs"
   },
   "outputs": [],
   "source": [
    "import numpy as np # importing numpy for numerical computation\n",
    "from sklearn.datasets import load_boston # here we are using sklearn's boston dataset\n",
    "from sklearn.metrics import mean_squared_error # importing mean_squared_error metric"
   ]
  },
  {
   "cell_type": "code",
   "execution_count": 17,
   "metadata": {
    "colab": {},
    "colab_type": "code",
    "id": "CcHOsONTt1K_"
   },
   "outputs": [],
   "source": [
    "boston = load_boston()\n",
    "x=boston.data #independent variables\n",
    "y=boston.target #target variable"
   ]
  },
  {
   "cell_type": "code",
   "execution_count": 3,
   "metadata": {
    "colab": {
     "base_uri": "https://localhost:8080/",
     "height": 34
    },
    "colab_type": "code",
    "id": "pc1htEFYuLRj",
    "outputId": "f5b60712-98b3-4cdc-b629-3546c1e3859c"
   },
   "outputs": [
    {
     "data": {
      "text/plain": [
       "(506, 13)"
      ]
     },
     "execution_count": 3,
     "metadata": {},
     "output_type": "execute_result"
    }
   ],
   "source": [
    "x.shape"
   ]
  },
  {
   "cell_type": "code",
   "execution_count": 4,
   "metadata": {
    "colab": {
     "base_uri": "https://localhost:8080/",
     "height": 269
    },
    "colab_type": "code",
    "id": "kQle3T_wuOa3",
    "outputId": "521c7bdd-5316-48d5-c534-b61d170d2c28"
   },
   "outputs": [
    {
     "data": {
      "text/plain": [
       "array([[6.3200e-03, 1.8000e+01, 2.3100e+00, 0.0000e+00, 5.3800e-01,\n",
       "        6.5750e+00, 6.5200e+01, 4.0900e+00, 1.0000e+00, 2.9600e+02,\n",
       "        1.5300e+01, 3.9690e+02, 4.9800e+00],\n",
       "       [2.7310e-02, 0.0000e+00, 7.0700e+00, 0.0000e+00, 4.6900e-01,\n",
       "        6.4210e+00, 7.8900e+01, 4.9671e+00, 2.0000e+00, 2.4200e+02,\n",
       "        1.7800e+01, 3.9690e+02, 9.1400e+00],\n",
       "       [2.7290e-02, 0.0000e+00, 7.0700e+00, 0.0000e+00, 4.6900e-01,\n",
       "        7.1850e+00, 6.1100e+01, 4.9671e+00, 2.0000e+00, 2.4200e+02,\n",
       "        1.7800e+01, 3.9283e+02, 4.0300e+00],\n",
       "       [3.2370e-02, 0.0000e+00, 2.1800e+00, 0.0000e+00, 4.5800e-01,\n",
       "        6.9980e+00, 4.5800e+01, 6.0622e+00, 3.0000e+00, 2.2200e+02,\n",
       "        1.8700e+01, 3.9463e+02, 2.9400e+00],\n",
       "       [6.9050e-02, 0.0000e+00, 2.1800e+00, 0.0000e+00, 4.5800e-01,\n",
       "        7.1470e+00, 5.4200e+01, 6.0622e+00, 3.0000e+00, 2.2200e+02,\n",
       "        1.8700e+01, 3.9690e+02, 5.3300e+00]])"
      ]
     },
     "execution_count": 4,
     "metadata": {},
     "output_type": "execute_result"
    }
   ],
   "source": [
    "x[:5]"
   ]
  },
  {
   "cell_type": "markdown",
   "metadata": {
    "colab_type": "text",
    "id": "AEa_HqRZloH4"
   },
   "source": [
    "## <font color='red'><b>Task 1</b></font>"
   ]
  },
  {
   "cell_type": "markdown",
   "metadata": {
    "colab_type": "text",
    "id": "YQ5q8IxHNRk3"
   },
   "source": [
    "<font color='red'> <b>Step - 1</b></font>"
   ]
  },
  {
   "cell_type": "markdown",
   "metadata": {
    "colab_type": "text",
    "id": "GJCFCaOzl7Mr"
   },
   "source": [
    "*  <font color='blue'><b>Creating samples</b></font><br>\n",
    "    <b> Randomly create 30 samples from the whole boston data points</b>\n",
    "    *  Creating each sample: Consider any random 303(60% of 506) data points from whole data set and then replicate any 203 points from the sampled points\n",
    "    \n",
    "     For better understanding of this procedure lets check this examples, assume we have 10 data points [1,2,3,4,5,6,7,8,9,10], first we take 6 data points randomly , consider we have selected [4, 5, 7, 8, 9, 3] now we will replicate 4 points from [4, 5, 7, 8, 9, 3], consder they are [5, 8, 3,7] so our final sample will be [4, 5, 7, 8, 9, 3, 5, 8, 3,7]\n",
    "* <font color='blue'><b> Create 30 samples </b></font>\n",
    "    *  Note that as a part of the Bagging when you are taking the random samples <b>make sure each of the sample will have different set of columns</b><br>\n",
    "Ex: Assume we have 10 columns[1 ,2 ,3 ,4 ,5 ,6 ,7 ,8 ,9 ,10] for the first sample we will select [3, 4, 5, 9, 1, 2] and for the second sample  [7, 9, 1, 4, 5, 6, 2] and so on...\n",
    "Make sure each sample will have atleast 3 feautres/columns/attributes"
   ]
  },
  {
   "cell_type": "markdown",
   "metadata": {
    "colab_type": "text",
    "id": "zUqFEBSvNjCa"
   },
   "source": [
    "<font color='red'><b>Step - 2 </b></font>"
   ]
  },
  {
   "cell_type": "markdown",
   "metadata": {
    "colab_type": "text",
    "id": "uqi9AhCYNq3Z"
   },
   "source": [
    "<font color='blue'><b>Building High Variance Models on each of the sample and finding train MSE value</b></font>"
   ]
  },
  {
   "cell_type": "markdown",
   "metadata": {
    "colab_type": "text",
    "id": "-lLBnZHXOFln"
   },
   "source": [
    "*  Build a regression trees on each of 30 samples.\n",
    "*  Computed the predicted values of each data point(506 data points) in your corpus.\n",
    "*  Predicted house price of $i^{th}$ data point $y^{i}_{pred} =  \\frac{1}{30}\\sum_{k=1}^{30}(\\text{predicted value of } x^{i} \\text{ with } k^{th} \\text{ model})$\n",
    "*  Now calculate the $MSE =  \\frac{1}{506}\\sum_{i=1}^{506}(y^{i} - y^{i}_{pred})^{2}$"
   ]
  },
  {
   "cell_type": "markdown",
   "metadata": {
    "colab_type": "text",
    "id": "Kls23JLnSN23"
   },
   "source": [
    "<font color='red'> <b>Step - 3 </b></font>"
   ]
  },
  {
   "cell_type": "markdown",
   "metadata": {
    "colab_type": "text",
    "id": "rz2GchkGSWnh"
   },
   "source": [
    "*  <font color='blue'><b>Calculating the OOB score </b></font>"
   ]
  },
  {
   "cell_type": "markdown",
   "metadata": {
    "colab_type": "text",
    "id": "DGHkVV2kSibm"
   },
   "source": [
    "*  Predicted house price of $i^{th}$ data point $y^{i}_{pred} =  \\frac{1}{k}\\sum_{\\text{k= model which was buit on samples not included } x^{i}}(\\text{predicted value of } x^{i} \\text{ with } k^{th} \\text{ model})$.\n",
    "*  Now calculate the $OOB Score =  \\frac{1}{506}\\sum_{i=1}^{506}(y^{i} - y^{i}_{pred})^{2}$."
   ]
  },
  {
   "cell_type": "markdown",
   "metadata": {
    "colab_type": "text",
    "id": "RK860ocxTyoz"
   },
   "source": [
    "# <font color='red'><b>Task 2</b></font>"
   ]
  },
  {
   "cell_type": "markdown",
   "metadata": {
    "colab_type": "text",
    "id": "1dme-N6TUCrY"
   },
   "source": [
    "*  <font color='blue'><b>Computing CI of OOB Score and Train MSE</b></font>\n",
    "  *   Repeat Task 1 for 35 times, and for each iteration store the Train MSE and OOB score </li>\n",
    "<li> After this we will have 35 Train MSE values and 35 OOB scores </li>\n",
    "<li> using these 35 values (assume like a sample) find the confidence intravels of MSE and OOB Score </li>\n",
    "<li> you need to report CI of MSE and CI of OOB Score </li>\n",
    "<li> Note: Refer the Central_Limit_theorem.ipynb to check how to find the confidence intravel</li>\n",
    "</ol>"
   ]
  },
  {
   "cell_type": "markdown",
   "metadata": {
    "colab_type": "text",
    "id": "O6UcH1x9Uwrj"
   },
   "source": [
    "# <font color='red'><b>Task 3</b></font>"
   ]
  },
  {
   "cell_type": "markdown",
   "metadata": {
    "colab_type": "text",
    "id": "bOC_AgsLU7OH"
   },
   "source": [
    "*  <font color='blue'><b>Given a single query point predict the price of house.</b></font>"
   ]
  },
  {
   "cell_type": "markdown",
   "metadata": {
    "colab_type": "text",
    "id": "HYs5jSFdVILe"
   },
   "source": [
    "Consider xq= [0.18,20.0,5.00,0.0,0.421,5.60,72.2,7.95,7.0,30.0,19.1,372.13,18.60] \n",
    "Predict the house price for this point as mentioned in the step 2 of Task 1."
   ]
  },
  {
   "cell_type": "markdown",
   "metadata": {
    "colab_type": "text",
    "id": "_6gxZEsFWm-8"
   },
   "source": [
    "<br><br><br>"
   ]
  },
  {
   "cell_type": "markdown",
   "metadata": {
    "colab_type": "text",
    "id": "V2fHTdS_zpgG"
   },
   "source": [
    "# <font color='blue'> <b>Task - 1</b></font>"
   ]
  },
  {
   "cell_type": "markdown",
   "metadata": {
    "colab_type": "text",
    "id": "e0yGBuryOwHz"
   },
   "source": [
    "<font color='blue'><b>Step - 1</b></font>"
   ]
  },
  {
   "cell_type": "markdown",
   "metadata": {
    "colab_type": "text",
    "id": "lJXX8vf3z073"
   },
   "source": [
    "*  <font color='blue'> <b>Creating samples</b></font>"
   ]
  },
  {
   "cell_type": "markdown",
   "metadata": {
    "colab_type": "text",
    "id": "CSVaWG1F4uCZ"
   },
   "source": [
    "<font color='Orange'><b>Algorithm</b></font>\n",
    "\n",
    "![alt text](https://i.imgur.com/BTVYXQ1.jpg/)"
   ]
  },
  {
   "cell_type": "markdown",
   "metadata": {
    "colab_type": "text",
    "id": "f_oWoN97BhDY"
   },
   "source": [
    "*  <font color='blue'><b> Write code for generating samples</b></font>"
   ]
  },
  {
   "cell_type": "code",
   "execution_count": 5,
   "metadata": {
    "colab": {},
    "colab_type": "code",
    "id": "Ph_6D2SDzz7F"
   },
   "outputs": [],
   "source": [
    "def generating_samples(input_data, target_data):\n",
    "\n",
    "    '''In this function, we will write code for generating 30 samples '''\n",
    "    # you can use random.choice to generate random indices without replacement\n",
    "    # Please have a look at this link https://docs.scipy.org/doc/numpy-1.16.0/reference/generated/numpy.random.choice.html for more details\n",
    "    # Please follow above pseudo code for generating samples \n",
    "    \n",
    "    row, column = input_data.shape\n",
    "    selecting_rows = np.random.choice(list(range(row)), size = 303, replace = False)\n",
    "    replacing_rows = np.random.choice(list(range(len(selecting_rows))), size = 203, replace = True)\n",
    "    col_size = np.random.choice(list(range(column)), size = 1, replace = True)\n",
    "    selecting_columns = np.random.choice(column, size = col_size+1, replace = False)\n",
    "\n",
    "    # source: https://docs.scipy.org/doc/numpy-1.10.0/reference/generated/numpy.ix_.html\n",
    "    sample_data = input_data[np.ix_(selecting_rows,selecting_columns)]\n",
    "    target_sample_data = target_data[selecting_rows]\n",
    "\n",
    "\n",
    "    #replicating data\n",
    "    replicated_sample_data = sample_data[replacing_rows]\n",
    "    target_of_replicated_sample_data = target_sample_data[replacing_rows]\n",
    "\n",
    "    #concatenating data\n",
    "    final_sample_data = np.vstack((sample_data,replicated_sample_data))\n",
    "    final_target_data = np.vstack((target_sample_data.reshape(-1,1),target_of_replicated_sample_data.reshape(-1,1)))\n",
    "\n",
    "    return final_sample_data,final_target_data,selecting_rows,selecting_columns\n",
    "\n",
    "    # return sampled_input_data , sampled_target_data,selecting_rows,selecting_columns\n",
    "    #note please return as lists"
   ]
  },
  {
   "cell_type": "markdown",
   "metadata": {
    "colab_type": "text",
    "id": "MivEQFlm7iOg"
   },
   "source": [
    "<font color='cyan'> <b> Grader function - 1 </b> </fongt>"
   ]
  },
  {
   "cell_type": "code",
   "execution_count": 6,
   "metadata": {
    "colab": {},
    "colab_type": "code",
    "id": "AVvuhNzm7uld"
   },
   "outputs": [
    {
     "data": {
      "text/plain": [
       "True"
      ]
     },
     "execution_count": 6,
     "metadata": {},
     "output_type": "execute_result"
    }
   ],
   "source": [
    "def grader_samples(a,b,c,d):\n",
    "    length = (len(a)==506  and len(b)==506)\n",
    "    sampled = (len(a)-len(set([str(i) for i in a]))==203)\n",
    "    rows_length = (len(c)==303)\n",
    "    column_length= (len(d)>=3)\n",
    "    assert(length and sampled and rows_length and column_length)\n",
    "    return True\n",
    "a,b,c,d = generating_samples(x, y)\n",
    "grader_samples(a,b,c,d)"
   ]
  },
  {
   "cell_type": "markdown",
   "metadata": {
    "colab_type": "text",
    "id": "b4LSsmn4Jn2_"
   },
   "source": [
    "*  <font color='blue'> <b>Create 30 samples </b>"
   ]
  },
  {
   "cell_type": "markdown",
   "metadata": {
    "colab_type": "text",
    "id": "3ec7MN6sL2BZ"
   },
   "source": [
    "![alt text](https://i.imgur.com/p8eZaWL.jpg)"
   ]
  },
  {
   "cell_type": "code",
   "execution_count": 7,
   "metadata": {
    "colab": {},
    "colab_type": "code",
    "id": "XXlKWjCcBvTk"
   },
   "outputs": [],
   "source": [
    "# Use generating_samples function to create 30 samples \n",
    "# store these created samples in a list\n",
    "list_input_data =[]\n",
    "list_output_data =[]\n",
    "list_selected_row= []\n",
    "list_selected_columns=[]\n",
    "\n",
    "for i in range(0,30):\n",
    "    a,b,c,d = generating_samples(x,y)\n",
    "    list_input_data.append(a)\n",
    "    list_output_data.append(b)\n",
    "    list_selected_row.append(c)\n",
    "    list_selected_columns.append(d)"
   ]
  },
  {
   "cell_type": "markdown",
   "metadata": {
    "colab_type": "text",
    "id": "MXUz9VFiMQkh"
   },
   "source": [
    "<font color='cyan'> <b>Grader function - 2 </b></font>"
   ]
  },
  {
   "cell_type": "code",
   "execution_count": 8,
   "metadata": {
    "colab": {},
    "colab_type": "code",
    "id": "hCvIq8NuMWOC"
   },
   "outputs": [
    {
     "data": {
      "text/plain": [
       "True"
      ]
     },
     "execution_count": 8,
     "metadata": {},
     "output_type": "execute_result"
    }
   ],
   "source": [
    "def grader_30(a):\n",
    "    assert(len(a)==30 and len(a[0])==506)\n",
    "    return True\n",
    "grader_30(list_input_data)"
   ]
  },
  {
   "cell_type": "markdown",
   "metadata": {
    "colab_type": "text",
    "id": "7Pv-mkZkO6dh"
   },
   "source": [
    "<br>"
   ]
  },
  {
   "cell_type": "markdown",
   "metadata": {
    "colab_type": "text",
    "id": "whaHCPB0O8qF"
   },
   "source": [
    "<font color='red'><b>Step - 2 </b></font>"
   ]
  },
  {
   "cell_type": "markdown",
   "metadata": {
    "colab_type": "text",
    "id": "XBy4zXSWPtU8"
   },
   "source": [
    "<font color='orange'><b>Flowchart for building tree</b></font>"
   ]
  },
  {
   "cell_type": "markdown",
   "metadata": {
    "colab_type": "text",
    "id": "5xvH06HPQBdP"
   },
   "source": [
    "![alt text](https://i.imgur.com/pcXfSmp.png)"
   ]
  },
  {
   "cell_type": "markdown",
   "metadata": {
    "colab_type": "text",
    "id": "WRwPO_uHQjul"
   },
   "source": [
    "*  <font color='blue'><b> Write code for building regression trees</b></font>"
   ]
  },
  {
   "cell_type": "code",
   "execution_count": 9,
   "metadata": {
    "colab": {},
    "colab_type": "code",
    "id": "YWQp6tRwMthq"
   },
   "outputs": [],
   "source": [
    "from sklearn.tree import DecisionTreeRegressor\n",
    "list_of_all_models = []\n",
    "array_of_y = []\n",
    "for i in range (0,30):\n",
    "    model = DecisionTreeRegressor(max_depth = None, random_state = 0)\n",
    "    model.fit(list_input_data[i],list_output_data[i])\n",
    "    y = model.predict(x[:,list_selected_columns[i]]).reshape(1,-1)\n",
    "    list_of_all_models.append(model)\n",
    "    array_of_y.append(y)"
   ]
  },
  {
   "cell_type": "code",
   "execution_count": 10,
   "metadata": {},
   "outputs": [
    {
     "data": {
      "text/plain": [
       "30"
      ]
     },
     "execution_count": 10,
     "metadata": {},
     "output_type": "execute_result"
    }
   ],
   "source": [
    "len(array_of_y)"
   ]
  },
  {
   "cell_type": "markdown",
   "metadata": {
    "colab_type": "text",
    "id": "21j8BKfAQ1U8"
   },
   "source": [
    "<font color='orange'><b>Flowchart for calculating MSE </b></font>"
   ]
  },
  {
   "cell_type": "markdown",
   "metadata": {
    "colab_type": "text",
    "id": "8Q0mTBD2RBx_"
   },
   "source": [
    "![alt text](https://i.imgur.com/sPEE618.png)"
   ]
  },
  {
   "cell_type": "code",
   "execution_count": 11,
   "metadata": {},
   "outputs": [
    {
     "data": {
      "text/plain": [
       "array([[24.  , 21.6 , 34.7 , 33.4 , 36.2 , 28.7 , 22.9 , 21.35, 16.5 ,\n",
       "        18.9 , 15.  , 18.9 , 21.7 , 20.4 , 18.2 , 19.9 , 23.1 , 17.5 ,\n",
       "        20.2 , 18.2 , 13.6 , 19.6 , 15.2 , 14.5 , 15.6 , 13.9 , 16.6 ,\n",
       "        14.8 , 18.4 , 21.  , 12.7 , 14.5 , 13.2 , 13.1 , 13.5 , 18.9 ,\n",
       "        20.  , 21.  , 24.7 , 30.8 , 34.9 , 26.6 , 25.3 , 24.7 , 21.2 ,\n",
       "        19.3 , 20.  , 16.6 , 14.4 , 19.4 , 19.7 , 20.5 , 25.  , 23.4 ,\n",
       "        18.9 , 35.4 , 24.7 , 31.6 , 23.3 , 19.6 , 18.7 , 16.  , 22.2 ,\n",
       "        25.  , 33.  , 23.5 , 19.4 , 22.  , 17.6 , 20.9 , 24.2 , 21.7 ,\n",
       "        22.8 , 23.4 , 24.1 , 21.4 , 20.  , 20.8 , 21.2 , 20.3 , 28.  ,\n",
       "        23.9 , 24.8 , 22.9 , 23.9 , 26.6 , 22.5 , 22.2 , 23.6 , 28.7 ,\n",
       "        22.6 , 22.  , 22.9 , 25.  , 20.6 , 28.4 , 21.4 , 38.7 , 43.8 ,\n",
       "        33.2 , 27.5 , 26.5 , 18.6 , 19.3 , 20.1 , 19.5 , 19.5 , 20.4 ,\n",
       "        19.8 , 19.4 , 21.7 , 22.8 , 18.8 , 18.7 , 18.5 , 18.3 , 21.2 ,\n",
       "        19.2 , 20.4 , 19.3 , 22.  , 20.3 , 20.5 , 17.3 , 18.8 , 20.85,\n",
       "        15.7 , 16.2 , 18.  , 14.3 , 19.2 , 19.6 , 23.  , 18.4 , 15.6 ,\n",
       "        18.1 , 17.4 , 17.1 , 13.3 , 17.8 , 14.  , 14.4 , 13.4 , 15.6 ,\n",
       "        11.8 , 13.8 , 15.6 , 14.6 , 17.8 , 15.4 , 21.5 , 19.6 , 15.3 ,\n",
       "        19.4 , 17.  , 15.6 , 13.1 , 41.3 , 24.3 , 23.3 , 27.  , 50.  ,\n",
       "        50.  , 50.  , 22.7 , 25.  , 50.  , 23.8 , 23.8 , 22.3 , 17.4 ,\n",
       "        19.1 , 23.1 , 23.6 , 22.6 , 29.4 , 23.2 , 24.6 , 29.9 , 37.2 ,\n",
       "        39.8 , 36.2 , 37.9 , 32.5 , 26.4 , 29.6 , 50.  , 32.  , 29.8 ,\n",
       "        34.9 , 37.  , 30.5 , 36.4 , 31.1 , 29.1 , 50.  , 33.3 , 30.3 ,\n",
       "        34.6 , 34.9 , 32.9 , 24.1 , 42.3 , 48.5 , 50.  , 22.6 , 24.4 ,\n",
       "        22.5 , 24.4 , 20.  , 21.7 , 19.3 , 22.4 , 27.  , 23.7 , 25.  ,\n",
       "        23.3 , 28.7 , 21.5 , 23.  , 26.7 , 21.7 , 27.5 , 30.1 , 44.8 ,\n",
       "        50.  , 37.6 , 31.6 , 46.7 , 31.5 , 24.3 , 31.7 , 41.7 , 46.7 ,\n",
       "        29.  , 24.  , 25.1 , 31.5 , 23.7 , 23.3 , 22.  , 20.1 , 22.2 ,\n",
       "        23.7 , 17.6 , 18.7 , 24.3 , 20.5 , 24.5 , 26.2 , 24.4 , 24.8 ,\n",
       "        29.6 , 42.8 , 21.9 , 20.9 , 44.  , 50.  , 36.  , 30.1 , 33.8 ,\n",
       "        43.1 , 48.8 , 31.  , 36.5 , 22.8 , 30.7 , 50.  , 43.5 , 20.9 ,\n",
       "        21.1 , 25.2 , 24.4 , 35.2 , 32.4 , 32.  , 33.2 , 33.1 , 29.1 ,\n",
       "        35.1 , 45.4 , 35.4 , 46.  , 50.  , 32.2 , 22.  , 20.1 , 23.2 ,\n",
       "        22.3 , 24.8 , 28.5 , 37.3 , 27.9 , 23.9 , 21.7 , 28.6 , 27.1 ,\n",
       "        20.3 , 22.5 , 29.  , 24.8 , 22.  , 26.4 , 33.1 , 36.1 , 28.4 ,\n",
       "        33.4 , 28.2 , 22.8 , 20.3 , 16.1 , 22.1 , 19.4 , 21.6 , 23.8 ,\n",
       "        16.2 , 17.8 , 19.8 , 23.1 , 21.  , 23.8 , 23.1 , 20.4 , 18.5 ,\n",
       "        25.  , 24.6 , 23.65, 22.2 , 19.65, 22.6 , 19.8 , 17.1 , 19.4 ,\n",
       "        22.2 , 20.7 , 21.1 , 19.5 , 18.5 , 20.6 , 19.  , 18.9 , 32.7 ,\n",
       "        16.5 , 23.9 , 31.2 , 17.5 , 17.5 , 23.1 , 24.5 , 26.6 , 22.9 ,\n",
       "        24.1 , 18.6 , 30.1 , 18.6 , 20.6 , 17.8 , 21.7 , 22.7 , 21.2 ,\n",
       "        25.  , 19.9 , 20.8 , 16.8 , 21.9 , 24.3 , 21.9 , 23.1 , 50.  ,\n",
       "        50.  , 50.  , 50.  , 50.  , 13.8 , 13.8 , 15.  , 13.9 , 13.3 ,\n",
       "        13.1 , 10.2 , 10.4 , 10.9 , 11.3 , 12.3 ,  8.8 ,  7.2 , 10.5 ,\n",
       "         7.4 , 10.2 , 11.5 , 15.1 , 23.2 ,  9.7 , 13.8 , 12.7 , 13.1 ,\n",
       "        12.5 ,  8.5 ,  5.  ,  6.3 ,  5.6 ,  7.2 , 12.1 , 10.  ,  8.5 ,\n",
       "         5.65, 11.9 , 27.9 , 17.2 , 27.5 , 15.  , 17.2 , 17.55, 16.3 ,\n",
       "         7.  ,  7.2 ,  7.5 , 10.4 ,  8.8 ,  8.4 , 16.7 , 14.2 , 20.8 ,\n",
       "        13.4 , 11.7 ,  8.3 , 10.2 , 10.9 , 11.  ,  9.5 , 14.5 , 14.1 ,\n",
       "        16.1 , 14.3 , 11.7 , 13.4 ,  9.6 ,  8.7 ,  8.4 , 12.8 , 10.5 ,\n",
       "        17.1 , 18.4 , 15.4 , 10.8 , 11.8 , 14.9 , 12.6 , 14.1 , 13.  ,\n",
       "        13.4 , 15.2 , 16.1 , 17.8 , 14.9 , 14.1 , 12.7 , 13.5 , 14.9 ,\n",
       "        20.  , 16.4 , 17.7 , 19.5 , 20.2 , 21.4 , 19.9 , 19.  , 19.1 ,\n",
       "        19.1 , 20.1 , 19.9 , 19.6 , 23.2 , 29.8 , 13.8 , 13.3 , 16.7 ,\n",
       "        12.  , 14.6 , 21.4 , 22.85, 23.7 , 25.  , 21.8 , 20.6 , 21.2 ,\n",
       "        19.1 , 20.6 , 15.2 ,  7.  ,  8.1 , 13.6 , 20.1 , 21.8 , 23.15,\n",
       "        23.1 , 19.7 , 18.3 , 21.2 , 17.5 , 16.8 , 22.4 , 20.6 , 23.9 ,\n",
       "        22.  , 15.3 ]])"
      ]
     },
     "execution_count": 11,
     "metadata": {},
     "output_type": "execute_result"
    }
   ],
   "source": [
    "predicted_y = np.median(array_of_y, axis = 0)\n",
    "predicted_y"
   ]
  },
  {
   "cell_type": "markdown",
   "metadata": {
    "colab_type": "text",
    "id": "6e-UamlHRjPy"
   },
   "source": [
    "After getting predicted_y for each data point, we can use sklearns mean_squared_error to calculate the MSE between predicted_y and actual_y."
   ]
  },
  {
   "cell_type": "markdown",
   "metadata": {
    "colab_type": "text",
    "id": "TnIMT7_oR312"
   },
   "source": [
    "*  <font color='blue'><b> Write code for calculating MSE</b></font>"
   ]
  },
  {
   "cell_type": "code",
   "execution_count": 13,
   "metadata": {
    "colab": {},
    "colab_type": "code",
    "id": "qWhcvMRWRA9b"
   },
   "outputs": [
    {
     "data": {
      "text/plain": [
       "11.584140316205533"
      ]
     },
     "execution_count": 13,
     "metadata": {},
     "output_type": "execute_result"
    }
   ],
   "source": [
    "from sklearn.metrics import mean_squared_error\n",
    "mean_squared_error(y, predicted_y)"
   ]
  },
  {
   "cell_type": "markdown",
   "metadata": {
    "colab_type": "text",
    "id": "RuclPDMnSz8F"
   },
   "source": [
    "<font color='blue'><b>Step - 3 </b></font>"
   ]
  },
  {
   "cell_type": "markdown",
   "metadata": {
    "colab_type": "text",
    "id": "ESb9FSIDTM5V"
   },
   "source": [
    "<font color='orange'><b>Flowchart for calculating OOB score</b></font>"
   ]
  },
  {
   "cell_type": "markdown",
   "metadata": {
    "colab_type": "text",
    "id": "HB-d6NMETbd9"
   },
   "source": [
    "![alt text](https://i.imgur.com/95S5Mtm.png)"
   ]
  },
  {
   "cell_type": "markdown",
   "metadata": {
    "colab_type": "text",
    "id": "WW3GOcFzTqbt"
   },
   "source": [
    "Now calculate the $OOB Score =  \\frac{1}{506}\\sum_{i=1}^{506}(y^{i} - y^{i}_{pred})^{2}$."
   ]
  },
  {
   "cell_type": "markdown",
   "metadata": {
    "colab_type": "text",
    "id": "zBqcS03pUYSZ"
   },
   "source": [
    "*  <font color='blue'><b> Write code for calculating OOB score </b></font>"
   ]
  },
  {
   "cell_type": "code",
   "execution_count": 14,
   "metadata": {},
   "outputs": [
    {
     "name": "stderr",
     "output_type": "stream",
     "text": [
      "100%|██████████| 506/506 [00:00<00:00, 1041.02it/s]\n"
     ]
    }
   ],
   "source": [
    "from tqdm import tqdm\n",
    "y_pred = []\n",
    "for datapoint in tqdm(range (0,len(x))):\n",
    "    list_of_y_values = []\n",
    "    for i,sample in enumerate(list_selected_row):\n",
    "        if datapoint not in sample:\n",
    "            xq = x[datapoint,list_selected_columns[i]]\n",
    "            list_of_y_values.append(list_of_all_models[i].predict(xq.reshape(1,-1)))\n",
    "    pred = np.median(list_of_y_values)\n",
    "    y_pred.append(pred)"
   ]
  },
  {
   "cell_type": "code",
   "execution_count": 15,
   "metadata": {},
   "outputs": [
    {
     "data": {
      "text/plain": [
       "1"
      ]
     },
     "execution_count": 15,
     "metadata": {},
     "output_type": "execute_result"
    }
   ],
   "source": [
    "len(y)"
   ]
  },
  {
   "cell_type": "code",
   "execution_count": 18,
   "metadata": {},
   "outputs": [],
   "source": [
    "oob_score = mean_squared_error(y, y_pred)"
   ]
  },
  {
   "cell_type": "code",
   "execution_count": 19,
   "metadata": {},
   "outputs": [
    {
     "data": {
      "text/plain": [
       "18.063606129734616"
      ]
     },
     "execution_count": 19,
     "metadata": {},
     "output_type": "execute_result"
    }
   ],
   "source": [
    "oob_score"
   ]
  },
  {
   "cell_type": "markdown",
   "metadata": {
    "colab_type": "text",
    "id": "sbuiwX3OUjUI"
   },
   "source": [
    "# <font color='blue'><b>Task 2</b></font>"
   ]
  },
  {
   "cell_type": "code",
   "execution_count": 39,
   "metadata": {
    "colab": {},
    "colab_type": "code",
    "id": "ceW5-D88Uswi"
   },
   "outputs": [
    {
     "name": "stderr",
     "output_type": "stream",
     "text": [
      "100%|██████████| 35/35 [00:18<00:00,  1.90it/s]\n"
     ]
    }
   ],
   "source": [
    "from tqdm import tqdm\n",
    "from sklearn.tree import DecisionTreeRegressor\n",
    "from sklearn.metrics import mean_squared_error\n",
    "\n",
    "\n",
    "oob_score = []\n",
    "mse = []\n",
    "\n",
    "for train in tqdm(range(0,35)):\n",
    "\n",
    "\n",
    "    x=boston.data #independent variables\n",
    "    y=boston.target #target variable\n",
    "    \n",
    "    list_input_data =[]\n",
    "    list_output_data =[]\n",
    "    list_selected_row= []\n",
    "    list_selected_columns=[]\n",
    "    \n",
    "    for i in range(0,30):\n",
    "        a,b,c,d = generating_samples(x,y)\n",
    "        list_input_data.append(a)\n",
    "        list_output_data.append(b)\n",
    "        list_selected_row.append(c)\n",
    "        list_selected_columns.append(d)\n",
    "    \n",
    "    predicted_y = 0\n",
    "    list_of_all_models = []\n",
    "    array_of_y = []\n",
    "    for i in range (0,30):\n",
    "        model = DecisionTreeRegressor(max_depth = None, random_state = 0)\n",
    "        model.fit(list_input_data[i],list_output_data[i])\n",
    "        y = model.predict(x[:,list_selected_columns[i]]).reshape(1,-1)\n",
    "        list_of_all_models.append(model)\n",
    "        array_of_y.append(y)\n",
    "    \n",
    "    predicted_y = np.median(array_of_y, axis = 0)\n",
    "\n",
    "    mse.append(mean_squared_error(y, predicted_y))\n",
    "\n",
    "\n",
    "    y_pred = []\n",
    "    pred = 0\n",
    "    for datapoint in range (0,len(x)):\n",
    "        list_of_y_values = []\n",
    "        for i,sample in enumerate(list_selected_row):\n",
    "            if datapoint not in sample:\n",
    "                xq = x[datapoint,list_selected_columns[i]]\n",
    "                list_of_y_values.append(list_of_all_models[i].predict(xq.reshape(1,-1)))\n",
    "        pred = np.median(list_of_y_values)\n",
    "        y_pred.append(pred)\n",
    "    oob_score.append(mean_squared_error(boston.target, y_pred))\n"
   ]
  },
  {
   "cell_type": "code",
   "execution_count": 40,
   "metadata": {},
   "outputs": [
    {
     "data": {
      "text/plain": [
       "[34.62684357439051,\n",
       " 6.609801400316861,\n",
       " 21.9049917568235,\n",
       " 5.7222189831293475,\n",
       " 12.041892841458058,\n",
       " 12.4138353219767,\n",
       " 16.68857213438735,\n",
       " 10.938722995132522,\n",
       " 49.84616583211693,\n",
       " 8.688328571400021,\n",
       " 9.317925305748334,\n",
       " 33.27544827647387,\n",
       " 8.395282555514383,\n",
       " 8.139421814766017,\n",
       " 12.101765437325854,\n",
       " 52.71061014640316,\n",
       " 7.733821787062146,\n",
       " 11.721902378984382,\n",
       " 10.403496437808032,\n",
       " 31.030147294352158,\n",
       " 13.76820144883349,\n",
       " 26.59986430835076,\n",
       " 24.99911932768529,\n",
       " 10.190951843900711,\n",
       " 12.18833511747914,\n",
       " 17.48402065088356,\n",
       " 51.69335119496513,\n",
       " 12.574066780729288,\n",
       " 17.076170020574363,\n",
       " 8.965331027667983,\n",
       " 35.49224076389449,\n",
       " 7.672149286706483,\n",
       " 6.685783526268853,\n",
       " 61.85897413950919,\n",
       " 16.49765096362836]"
      ]
     },
     "execution_count": 40,
     "metadata": {},
     "output_type": "execute_result"
    }
   ],
   "source": [
    "mse"
   ]
  },
  {
   "cell_type": "code",
   "execution_count": 42,
   "metadata": {},
   "outputs": [
    {
     "data": {
      "text/plain": [
       "[13.888954511716078,\n",
       " 18.409170479320036,\n",
       " 18.050154404673968,\n",
       " 15.886193466807015,\n",
       " 16.099757488843665,\n",
       " 15.421374971082589,\n",
       " 13.925728727492313,\n",
       " 19.807664047436198,\n",
       " 14.978781240498027,\n",
       " 16.89800891381254,\n",
       " 16.192496261287292,\n",
       " 19.087099780200766,\n",
       " 17.936759804826135,\n",
       " 14.493082284138918,\n",
       " 14.430957911215325,\n",
       " 12.556028248350477,\n",
       " 19.092240581656256,\n",
       " 14.267884740187068,\n",
       " 16.164905654937336,\n",
       " 18.588236944996225,\n",
       " 14.529392764359438,\n",
       " 14.639604257891234,\n",
       " 17.63346668449696,\n",
       " 16.167893273920445,\n",
       " 15.4259801714958,\n",
       " 14.210057036559228,\n",
       " 17.566258148426108,\n",
       " 14.959250406430813,\n",
       " 12.466895334357014,\n",
       " 18.88556426904919,\n",
       " 15.984796743864493,\n",
       " 17.591712613718656,\n",
       " 16.36211938158161,\n",
       " 17.2865614372077,\n",
       " 18.782638233892246]"
      ]
     },
     "execution_count": 42,
     "metadata": {},
     "output_type": "execute_result"
    }
   ],
   "source": [
    "oob_score"
   ]
  },
  {
   "cell_type": "code",
   "execution_count": 47,
   "metadata": {},
   "outputs": [
    {
     "name": "stdout",
     "output_type": "stream",
     "text": [
      "Confidence Interval for MSE is [14.627,24.691]\n",
      "Confidence Interval for Out-of-Bag scores is [14.627,24.691]\n"
     ]
    }
   ],
   "source": [
    "# CI for MSE\n",
    "MSE_left_limit  = np.round(np.mean(mse) - 2*(np.std(mse)/np.sqrt(35)), 3)\n",
    "MSE_right_limit = np.round(np.mean(mse) + 2*(np.std(mse)/np.sqrt(35)), 3)\n",
    "print(\"Confidence Interval for MSE is [{0},{1}]\".format(MSE_left_limit,MSE_right_limit))\n",
    "\n",
    "OOB_left_limit  = np.round(np.mean(oob_score) - 2*(np.std(oob_score)/np.sqrt(35)), 3)\n",
    "OOB_right_limit = np.round(np.mean(oob_score) + 2*(np.std(oob_score)/np.sqrt(35)), 3)\n",
    "print(\"Confidence Interval for Out-of-Bag scores is [{0},{1}]\".format(MSE_left_limit,MSE_right_limit))"
   ]
  },
  {
   "cell_type": "markdown",
   "metadata": {
    "colab_type": "text",
    "id": "jKTnJdiBVS_e"
   },
   "source": [
    "# <font color='blue'><b>Task 3</b></font>"
   ]
  },
  {
   "cell_type": "markdown",
   "metadata": {
    "colab_type": "text",
    "id": "eXxrvZqHV1Fr"
   },
   "source": [
    "<font color='orange'><b>Flowchart for Task 3</b></font>"
   ]
  },
  {
   "cell_type": "markdown",
   "metadata": {
    "colab_type": "text",
    "id": "NyjwEJ62V6a6"
   },
   "source": [
    "<b>Hint: </b> We created 30 models by using 30 samples in TASK-1. Here, we need send query point \"xq\"  to 30 models and perform the regression on the output generated by 30 models."
   ]
  },
  {
   "cell_type": "markdown",
   "metadata": {
    "colab_type": "text",
    "id": "0emSwLL7VurD"
   },
   "source": [
    "![alt text](https://i.imgur.com/Y5cNhQk.png)"
   ]
  },
  {
   "cell_type": "markdown",
   "metadata": {
    "colab_type": "text",
    "id": "29hjwKlWWDfo"
   },
   "source": [
    "*  <font color='blue'><b> Write code for TASK 3 </b></font>"
   ]
  },
  {
   "cell_type": "code",
   "execution_count": 20,
   "metadata": {
    "colab": {},
    "colab_type": "code",
    "id": "i_pUlSD-VYD1"
   },
   "outputs": [
    {
     "name": "stdout",
     "output_type": "stream",
     "text": [
      "19.75\n"
     ]
    }
   ],
   "source": [
    "xq = [0.18,20.0,5.00,0.0,0.421,5.60,72.2,7.95,7.0,30.0,19.1,372.13,18.60]\n",
    "y_xq = []\n",
    "for i in range(0,len(list_of_all_models)):\n",
    "    Xq = np.array(xq).reshape(-1,1)\n",
    "    y_xq.append(list_of_all_models[i].predict(Xq[list_selected_columns[i]].reshape(1,-1)))\n",
    "predict_Y_of_datapoint =np.median(y_xq)\n",
    "print(predict_Y_of_datapoint)"
   ]
  },
  {
   "cell_type": "markdown",
   "metadata": {
    "colab_type": "text",
    "id": "IOdUi-0xWOJ9"
   },
   "source": [
    "<font color='red'><b>Write observations for task 1, task 2, task 3 indetail</b></font>"
   ]
  },
  {
   "cell_type": "markdown",
   "metadata": {
    "colab": {},
    "colab_type": "code",
    "id": "AIcax45hWKT-"
   },
   "source": [
    "For task 1, we can see that the MSE is pretty small. It is caused by the tree that was built on the training sit to the maximum depth, thus it will overfit to the training data. \n",
    "\n",
    "For task 2, we can see that after we run the random forest for 35 times, we can find the confidence interval. The Confidence Interval for MSE is [14.627,24.691] and the Confidence Interval for Out-of-Bag scores is [14.627,24.691]\n",
    "\n",
    "For task 3, given the data point xq, our model is able to predict the price to be 19.75.\n"
   ]
  }
 ],
 "metadata": {
  "colab": {
   "collapsed_sections": [],
   "name": "Bootstrap_assignment.ipynb",
   "provenance": []
  },
  "kernelspec": {
   "display_name": "Python 3",
   "language": "python",
   "name": "python3"
  },
  "language_info": {
   "codemirror_mode": {
    "name": "ipython",
    "version": 3
   },
   "file_extension": ".py",
   "mimetype": "text/x-python",
   "name": "python",
   "nbconvert_exporter": "python",
   "pygments_lexer": "ipython3",
   "version": "3.7.6"
  }
 },
 "nbformat": 4,
 "nbformat_minor": 1
}
